{
  "nbformat": 4,
  "nbformat_minor": 0,
  "metadata": {
    "colab": {
      "name": "CIFAR.ipynb",
      "version": "0.3.2",
      "provenance": [],
      "collapsed_sections": []
    },
    "kernelspec": {
      "name": "python3",
      "display_name": "Python 3"
    },
    "accelerator": "GPU"
  },
  "cells": [
    {
      "metadata": {
        "id": "SATF_ikbSewQ",
        "colab_type": "text"
      },
      "cell_type": "markdown",
      "source": [
        "Import & Setup CIFAR Dataset"
      ]
    },
    {
      "metadata": {
        "id": "gHiUt-60oS2L",
        "colab_type": "code",
        "colab": {}
      },
      "cell_type": "code",
      "source": [
        "from tensorflow.python.keras.datasets import cifar10\n",
        "(x_train, y_train), (x_test, y_test) = cifar10.load_data()\n",
        "\n",
        "# preprocessing\n",
        "x_train = x_train.astype('float32') # for division\n",
        "x_test = x_test.astype('float32')\n",
        "x_train /= 255 # normalise\n",
        "x_test /= 255\n",
        "\n",
        "from tensorflow.python.keras.utils import to_categorical\n",
        "# One-hot encode the labels\n",
        "num_classes = 10\n",
        "y_train = to_categorical(y_train, num_classes)\n",
        "y_test = to_categorical(y_test, num_classes)"
      ],
      "execution_count": 0,
      "outputs": []
    },
    {
      "metadata": {
        "id": "AJjvU5DbSlfi",
        "colab_type": "text"
      },
      "cell_type": "markdown",
      "source": [
        "Define Model"
      ]
    },
    {
      "metadata": {
        "id": "tQjyVrv4trfN",
        "colab_type": "code",
        "colab": {}
      },
      "cell_type": "code",
      "source": [
        "from tensorflow.python.keras.models import Sequential\n",
        "from tensorflow.python.keras.layers import Conv2D, Activation, MaxPooling2D, Dropout, Flatten, Dense \n",
        "\n",
        "model = Sequential()\n",
        "model.add(Conv2D(32, (3, 3), padding='same', input_shape=x_train.shape[1:]))\n",
        "model.add(Conv2D(32, (3, 3), activation='relu'))\n",
        "model.add(MaxPooling2D(pool_size=(2, 2)))\n",
        "model.add(Dropout(0.25))\n",
        "\n",
        "model.add(Conv2D(64, (3, 3), activation='relu'))\n",
        "model.add(Conv2D(64, (3, 3), activation='relu'))\n",
        "model.add(MaxPooling2D(pool_size=(2, 2)))\n",
        "model.add(Dropout(0.25))\n",
        "\n",
        "model.add(Conv2D(128, (3, 3), activation='relu'))\n",
        "model.add(Conv2D(128, (3, 3), activation='relu'))\n",
        "model.add(MaxPooling2D(pool_size=(2, 2), padding='same'))\n",
        "model.add(Dropout(0.25))\n",
        "\n",
        "model.add(Flatten())\n",
        "model.add(Dense(256, activation='relu'))\n",
        "model.add(Dropout(0.5))\n",
        "model.add(Dense(num_classes, activation='softmax'))\n",
        "\n",
        "model.compile(loss='categorical_crossentropy',\n",
        "              optimizer='adam',\n",
        "              metrics=['accuracy'])"
      ],
      "execution_count": 0,
      "outputs": []
    },
    {
      "metadata": {
        "id": "JZwMasICSoMh",
        "colab_type": "text"
      },
      "cell_type": "markdown",
      "source": [
        "Create / Restore Checkpoint"
      ]
    },
    {
      "metadata": {
        "id": "pj4ETUeNSBXh",
        "colab_type": "code",
        "colab": {
          "base_uri": "https://localhost:8080/",
          "height": 34
        },
        "outputId": "7a758435-e759-45bc-b8ac-41943fa6c771"
      },
      "cell_type": "code",
      "source": [
        "from tensorflow.python.keras.models import load_model\n",
        "from keras.callbacks import ModelCheckpoint\n",
        "\n",
        "filepath='checkpoint.h5'\n",
        "checkpoint = ModelCheckpoint(filepath, verbose=1, save_best_only=True)\n",
        "\n",
        "import os.path\n",
        "if os.path.exists(filepath): model = load_model(filepath)"
      ],
      "execution_count": 3,
      "outputs": [
        {
          "output_type": "stream",
          "text": [
            "Using TensorFlow backend.\n"
          ],
          "name": "stderr"
        }
      ]
    },
    {
      "metadata": {
        "id": "-auB2QLCSs9G",
        "colab_type": "text"
      },
      "cell_type": "markdown",
      "source": [
        "Train Model"
      ]
    },
    {
      "metadata": {
        "id": "a76Rv2-Qoci9",
        "colab_type": "code",
        "colab": {
          "base_uri": "https://localhost:8080/",
          "height": 1414
        },
        "outputId": "8414af85-19ec-4803-b051-d235edfe6489"
      },
      "cell_type": "code",
      "source": [
        "model.summary()\n",
        "\n",
        "model.fit(x_train, y_train, batch_size=32,\n",
        "          validation_data=(x_test, y_test),\n",
        "          callbacks=[checkpoint],\n",
        "          epochs=10)\n",
        "\n",
        "scores = model.evaluate(x_test, y_test, verbose=1)\n",
        "print('Test accuracy:', scores[1]) #  0.7437"
      ],
      "execution_count": 4,
      "outputs": [
        {
          "output_type": "stream",
          "text": [
            "_________________________________________________________________\n",
            "Layer (type)                 Output Shape              Param #   \n",
            "=================================================================\n",
            "conv2d (Conv2D)              (None, 32, 32, 32)        896       \n",
            "_________________________________________________________________\n",
            "conv2d_1 (Conv2D)            (None, 30, 30, 32)        9248      \n",
            "_________________________________________________________________\n",
            "max_pooling2d (MaxPooling2D) (None, 15, 15, 32)        0         \n",
            "_________________________________________________________________\n",
            "dropout (Dropout)            (None, 15, 15, 32)        0         \n",
            "_________________________________________________________________\n",
            "conv2d_2 (Conv2D)            (None, 13, 13, 64)        18496     \n",
            "_________________________________________________________________\n",
            "conv2d_3 (Conv2D)            (None, 11, 11, 64)        36928     \n",
            "_________________________________________________________________\n",
            "max_pooling2d_1 (MaxPooling2 (None, 5, 5, 64)          0         \n",
            "_________________________________________________________________\n",
            "dropout_1 (Dropout)          (None, 5, 5, 64)          0         \n",
            "_________________________________________________________________\n",
            "conv2d_4 (Conv2D)            (None, 3, 3, 128)         73856     \n",
            "_________________________________________________________________\n",
            "conv2d_5 (Conv2D)            (None, 1, 1, 128)         147584    \n",
            "_________________________________________________________________\n",
            "max_pooling2d_2 (MaxPooling2 (None, 1, 1, 128)         0         \n",
            "_________________________________________________________________\n",
            "dropout_2 (Dropout)          (None, 1, 1, 128)         0         \n",
            "_________________________________________________________________\n",
            "flatten (Flatten)            (None, 128)               0         \n",
            "_________________________________________________________________\n",
            "dense (Dense)                (None, 256)               33024     \n",
            "_________________________________________________________________\n",
            "dropout_3 (Dropout)          (None, 256)               0         \n",
            "_________________________________________________________________\n",
            "dense_1 (Dense)              (None, 10)                2570      \n",
            "=================================================================\n",
            "Total params: 322,602\n",
            "Trainable params: 322,602\n",
            "Non-trainable params: 0\n",
            "_________________________________________________________________\n",
            "Train on 50000 samples, validate on 10000 samples\n",
            "Epoch 1/10\n",
            "49920/50000 [============================>.] - ETA: 0s - loss: 1.7366 - acc: 0.3429\n",
            "Epoch 00001: val_loss improved from inf to 1.33716, saving model to checkpoint.h5\n",
            "50000/50000 [==============================] - 28s 556us/step - loss: 1.7359 - acc: 0.3432 - val_loss: 1.3372 - val_acc: 0.5067\n",
            "Epoch 2/10\n",
            "49952/50000 [============================>.] - ETA: 0s - loss: 1.3451 - acc: 0.5243\n",
            "Epoch 00002: val_loss improved from 1.33716 to 1.16989, saving model to checkpoint.h5\n",
            "50000/50000 [==============================] - 27s 537us/step - loss: 1.3450 - acc: 0.5245 - val_loss: 1.1699 - val_acc: 0.5760\n",
            "Epoch 3/10\n",
            "49920/50000 [============================>.] - ETA: 0s - loss: 1.1702 - acc: 0.5914\n",
            "Epoch 00003: val_loss improved from 1.16989 to 1.01982, saving model to checkpoint.h5\n",
            "50000/50000 [==============================] - 26s 521us/step - loss: 1.1697 - acc: 0.5916 - val_loss: 1.0198 - val_acc: 0.6415\n",
            "Epoch 4/10\n",
            "49888/50000 [============================>.] - ETA: 0s - loss: 1.0745 - acc: 0.6278\n",
            "Epoch 00004: val_loss improved from 1.01982 to 0.94086, saving model to checkpoint.h5\n",
            "50000/50000 [==============================] - 26s 521us/step - loss: 1.0744 - acc: 0.6278 - val_loss: 0.9409 - val_acc: 0.6715\n",
            "Epoch 5/10\n",
            "49984/50000 [============================>.] - ETA: 0s - loss: 1.0081 - acc: 0.6538\n",
            "Epoch 00005: val_loss improved from 0.94086 to 0.91535, saving model to checkpoint.h5\n",
            "50000/50000 [==============================] - 26s 519us/step - loss: 1.0082 - acc: 0.6538 - val_loss: 0.9153 - val_acc: 0.6881\n",
            "Epoch 6/10\n",
            "49984/50000 [============================>.] - ETA: 0s - loss: 0.9606 - acc: 0.6715\n",
            "Epoch 00006: val_loss improved from 0.91535 to 0.87765, saving model to checkpoint.h5\n",
            "50000/50000 [==============================] - 26s 519us/step - loss: 0.9604 - acc: 0.6716 - val_loss: 0.8776 - val_acc: 0.7017\n",
            "Epoch 7/10\n",
            "49920/50000 [============================>.] - ETA: 0s - loss: 0.9252 - acc: 0.6843\n",
            "Epoch 00007: val_loss improved from 0.87765 to 0.85447, saving model to checkpoint.h5\n",
            "50000/50000 [==============================] - 26s 527us/step - loss: 0.9250 - acc: 0.6844 - val_loss: 0.8545 - val_acc: 0.7054\n",
            "Epoch 8/10\n",
            "49920/50000 [============================>.] - ETA: 0s - loss: 0.8914 - acc: 0.6963\n",
            "Epoch 00008: val_loss improved from 0.85447 to 0.82250, saving model to checkpoint.h5\n",
            "50000/50000 [==============================] - 26s 527us/step - loss: 0.8915 - acc: 0.6963 - val_loss: 0.8225 - val_acc: 0.7203\n",
            "Epoch 9/10\n",
            "49952/50000 [============================>.] - ETA: 0s - loss: 0.8735 - acc: 0.7017\n",
            "Epoch 00009: val_loss did not improve from 0.82250\n",
            "50000/50000 [==============================] - 26s 525us/step - loss: 0.8736 - acc: 0.7017 - val_loss: 0.8345 - val_acc: 0.7192\n",
            "Epoch 10/10\n",
            "49920/50000 [============================>.] - ETA: 0s - loss: 0.8468 - acc: 0.7141\n",
            "Epoch 00010: val_loss improved from 0.82250 to 0.80613, saving model to checkpoint.h5\n",
            "50000/50000 [==============================] - 26s 527us/step - loss: 0.8468 - acc: 0.7141 - val_loss: 0.8061 - val_acc: 0.7275\n",
            "10000/10000 [==============================] - 1s 148us/step\n",
            "Test accuracy: 0.7275\n"
          ],
          "name": "stdout"
        }
      ]
    },
    {
      "metadata": {
        "id": "DCOtn7pLPYMH",
        "colab_type": "text"
      },
      "cell_type": "markdown",
      "source": [
        "To clear model memory run model definition"
      ]
    }
  ]
}